{
 "cells": [
  {
   "cell_type": "markdown",
   "metadata": {},
   "source": [
    "Author: Nicholas Lor"
   ]
  },
  {
   "cell_type": "code",
   "execution_count": 6,
   "metadata": {},
   "outputs": [
    {
     "name": "stdout",
     "output_type": "stream",
     "text": [
      "Python version: 3.9.13 (main, Aug 25 2022, 18:29:29) \n",
      "[Clang 12.0.0 ]\n",
      "pandas version: 1.4.3\n",
      "matplotlib version: 3.5.2\n",
      "NumPy version: 1.21.5\n",
      "SciPy version: 1.7.3\n",
      "IPython version: 7.31.1\n",
      "scikit-learn version: 1.1.1\n",
      "yellowbrick version: 1.5\n"
     ]
    }
   ],
   "source": [
    "# paste code from README.md to display versions and run cell\n",
    "import sys\n",
    "print(\"Python version:\", sys.version)\n",
    "\n",
    "import pandas as pd\n",
    "print(\"pandas version:\", pd.__version__)\n",
    "\n",
    "import matplotlib\n",
    "print(\"matplotlib version:\", matplotlib.__version__)\n",
    "\n",
    "import numpy as np\n",
    "print(\"NumPy version:\", np.__version__)\n",
    "\n",
    "import scipy as sp\n",
    "print(\"SciPy version:\", sp.__version__)\n",
    "\n",
    "import IPython\n",
    "print(\"IPython version:\", IPython.__version__)\n",
    "\n",
    "import sklearn\n",
    "print(\"scikit-learn version:\", sklearn.__version__)\n",
    "\n",
    "import yellowbrick\n",
    "print(\"yellowbrick version:\", yellowbrick.__version__)"
   ]
  },
  {
   "cell_type": "code",
   "execution_count": 8,
   "metadata": {},
   "outputs": [
    {
     "name": "stdout",
     "output_type": "stream",
     "text": [
      "# conda environments:\n",
      "#\n",
      "BankClassifier           /Users/nicholaslor/.conda/envs/BankClassifier\n",
      "rent-faster-scrapper     /Users/nicholaslor/.conda/envs/rent-faster-scrapper\n",
      "twitterbot               /Users/nicholaslor/.conda/envs/twitterbot\n",
      "                         /opt/anaconda3\n",
      "                         /opt/anaconda3/envs/bill-tracker\n",
      "                         /opt/anaconda3/envs/brainflow\n",
      "                         /opt/anaconda3/envs/ensf592\n",
      "                         /opt/anaconda3/envs/ensf592v2\n",
      "base                  *  /opt/anaconda3/envs/ensf611\n",
      "                         /opt/anaconda3/envs/muse_env\n",
      "                         /opt/anaconda3/envs/natHacks\n",
      "                         /opt/anaconda3/envs/natHacks2022\n",
      "\n"
     ]
    }
   ],
   "source": [
    "# run conda envs\n",
    "!conda info --envs"
   ]
  }
 ],
 "metadata": {
  "kernelspec": {
   "display_name": "Python 3.9.13 ('ensf611')",
   "language": "python",
   "name": "python3"
  },
  "language_info": {
   "codemirror_mode": {
    "name": "ipython",
    "version": 3
   },
   "file_extension": ".py",
   "mimetype": "text/x-python",
   "name": "python",
   "nbconvert_exporter": "python",
   "pygments_lexer": "ipython3",
   "version": "3.9.13"
  },
  "vscode": {
   "interpreter": {
    "hash": "92d8ca1088e394a867caa6bc54a70592488b7e42513e723e7fb87f2fc64396cb"
   }
  }
 },
 "nbformat": 4,
 "nbformat_minor": 4
}
